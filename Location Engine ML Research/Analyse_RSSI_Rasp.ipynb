{
 "cells": [
  {
   "cell_type": "code",
   "execution_count": 11,
   "metadata": {},
   "outputs": [],
   "source": [
    "import pandas as pd\n",
    "import numpy as np\n",
    "import matplotlib.pyplot as plt\n",
    "import math\n",
    "\n",
    "import pickle\n",
    "\n",
    "from sklearn.ensemble import GradientBoostingRegressor\n",
    "from sklearn.ensemble import RandomForestRegressor\n",
    "from sklearn.model_selection import train_test_split\n",
    "from sklearn import preprocessing\n",
    "\n",
    "from pykalman import KalmanFilter\n",
    "\n",
    "import seaborn as sns\n",
    "\n",
    "from sklearn.model_selection import GridSearchCV\n",
    "from sklearn.svm import SVR\n",
    "from sklearn.svm import SVC"
   ]
  },
  {
   "cell_type": "markdown",
   "metadata": {},
   "source": [
    "# Formating from raw data"
   ]
  },
  {
   "cell_type": "code",
   "execution_count": 2,
   "metadata": {},
   "outputs": [],
   "source": [
    "df_input = pd.read_csv(\n",
    "    \"./rasp/measurements_1200cm.csv\",\n",
    "    delimiter = \";\", \n",
    "    header=None\n",
    ")\n",
    "\n",
    "col_names = [\"col_1\", \"col_2\"]\n",
    "df_input.columns = col_names\n",
    "df_input.dropna()\n",
    "\n",
    "address = df_input[df_input.col_1==\"address\"]\n",
    "rssi = df_input[df_input.col_1==\"rssi\"]\n",
    "df_output = pd.DataFrame()\n",
    "df_output['address'] = address.col_2.values\n",
    "df_output['rssi'] = rssi.col_2.values\n",
    "\n",
    "\n",
    "df_output.to_csv ('./rasp/clean/measurements_1200cm_formated.csv', sep = ';', index=False, header=True)"
   ]
  },
  {
   "cell_type": "markdown",
   "metadata": {},
   "source": [
    "# Importing data"
   ]
  },
  {
   "cell_type": "code",
   "execution_count": 4,
   "metadata": {},
   "outputs": [],
   "source": [
    "df50 = pd.read_csv(\"./rasp/clean/measurements_50cm_formated.csv\", delimiter = \";\")\n",
    "df100 = pd.read_csv(\"./rasp/clean/measurements_100cm_2_formated.csv\", delimiter = \";\")\n",
    "df200 = pd.read_csv(\"./rasp/clean/measurements_200cm_formated.csv\", delimiter = \";\")\n",
    "df300 = pd.read_csv(\"./rasp/clean/measurements_300cm_formated.csv\", delimiter = \";\")\n",
    "df400 = pd.read_csv(\"./rasp/clean/measurements_400cm_formated.csv\", delimiter = \";\")\n",
    "df500 = pd.read_csv(\"./rasp/clean/measurements_500cm_formated.csv\", delimiter = \";\")\n",
    "df600 = pd.read_csv(\"./rasp/clean/measurements_600cm_formated.csv\", delimiter = \";\")\n",
    "df700 = pd.read_csv(\"./rasp/clean/measurements_700cm_formated.csv\", delimiter = \";\")\n",
    "df800 = pd.read_csv(\"./rasp/clean/measurements_800cm_formated.csv\", delimiter = \";\")\n",
    "df900 = pd.read_csv(\"./rasp/clean/measurements_900cm_formated.csv\", delimiter = \";\")\n",
    "df1000 = pd.read_csv(\"./rasp/clean/measurements_1000cm_formated.csv\", delimiter = \";\")\n",
    "df1100 = pd.read_csv(\"./rasp/clean/measurements_1100cm_formated.csv\", delimiter = \";\")\n",
    "df1200 = pd.read_csv(\"./rasp/clean/measurements_1200cm_formated.csv\", delimiter = \";\")\n",
    "\n",
    "df50['dist'] = 50\n",
    "df100['dist'] = 100\n",
    "df200['dist'] = 200\n",
    "df300['dist'] = 300\n",
    "df400['dist'] = 400\n",
    "df500['dist'] = 500\n",
    "df600['dist'] = 600\n",
    "df700['dist'] = 700\n",
    "df800['dist'] = 800\n",
    "df900['dist'] = 900\n",
    "df1000['dist'] = 1000\n",
    "df1100['dist'] = 1100\n",
    "df1200['dist'] = 1200\n",
    "\n",
    "to_concat = [df50, df100, df200, df300, df400, df500, df600, df700, df800, df900, df1000, df1100]\n",
    "total_df = pd.concat(to_concat)\n",
    "\n",
    "total_df = total_df.reset_index(drop=True)"
   ]
  },
  {
   "cell_type": "code",
   "execution_count": 5,
   "metadata": {},
   "outputs": [],
   "source": [
    "mappping_battery = {'ef:86:35:dd:c3:f7' : 69,\n",
    "                    'e2:51:e0:31:ee:0e' : 20,\n",
    "                    'f7:9c:08:9a:42:ed' : 50,\n",
    "                    'f1:96:cd:ee:25:bd' : 47,\n",
    "                    'e3:6f:28:36:5a:db' : 43,\n",
    "                    'd5:b1:89:8b:b8:c5' : 67,\n",
    "                    'fc:02:a0:fa:33:19' : 44, \n",
    "                    'f9:b3:b2:3d:53:a5' : 72,\n",
    "                    'd1:0b:14:b3:18:6a' : 43,\n",
    "                   }"
   ]
  },
  {
   "cell_type": "code",
   "execution_count": 6,
   "metadata": {},
   "outputs": [
    {
     "data": {
      "text/plain": [
       "7635"
      ]
     },
     "execution_count": 6,
     "metadata": {},
     "output_type": "execute_result"
    }
   ],
   "source": [
    "total_df['battery'] = total_df.address.map(mappping_battery)\n",
    "total_df['txPower'] = 6\n",
    "total_df['interval'] = 500\n",
    "\n",
    "total_df = total_df[~total_df.battery.isna()]\n",
    "\n",
    "total_df = total_df.reset_index(drop=True)\n",
    "total_df.dist.value_counts().min()"
   ]
  },
  {
   "cell_type": "code",
   "execution_count": 2,
   "metadata": {},
   "outputs": [
    {
     "ename": "NameError",
     "evalue": "name 'total_df' is not defined",
     "output_type": "error",
     "traceback": [
      "\u001b[1;31m---------------------------------------------------------------------------\u001b[0m",
      "\u001b[1;31mNameError\u001b[0m                                 Traceback (most recent call last)",
      "\u001b[1;32m<ipython-input-2-8efc41f44e92>\u001b[0m in \u001b[0;36m<module>\u001b[1;34m\u001b[0m\n\u001b[1;32m----> 1\u001b[1;33m \u001b[0mtotal_df\u001b[0m\u001b[1;33m.\u001b[0m\u001b[0mdist\u001b[0m\u001b[1;33m.\u001b[0m\u001b[0mvalue_counts\u001b[0m\u001b[1;33m(\u001b[0m\u001b[1;33m)\u001b[0m\u001b[1;33m\u001b[0m\u001b[1;33m\u001b[0m\u001b[0m\n\u001b[0m",
      "\u001b[1;31mNameError\u001b[0m: name 'total_df' is not defined"
     ]
    }
   ],
   "source": [
    "total_df.dist.value_counts()"
   ]
  },
  {
   "cell_type": "code",
   "execution_count": 3,
   "metadata": {},
   "outputs": [
    {
     "ename": "NameError",
     "evalue": "name 'total_df' is not defined",
     "output_type": "error",
     "traceback": [
      "\u001b[1;31m---------------------------------------------------------------------------\u001b[0m",
      "\u001b[1;31mNameError\u001b[0m                                 Traceback (most recent call last)",
      "\u001b[1;32m<ipython-input-3-08bac7a47bdc>\u001b[0m in \u001b[0;36m<module>\u001b[1;34m\u001b[0m\n\u001b[0;32m      1\u001b[0m \u001b[0mtemp\u001b[0m \u001b[1;33m=\u001b[0m \u001b[0mpd\u001b[0m\u001b[1;33m.\u001b[0m\u001b[0mDataFrame\u001b[0m\u001b[1;33m(\u001b[0m\u001b[1;33m)\u001b[0m\u001b[1;33m\u001b[0m\u001b[1;33m\u001b[0m\u001b[0m\n\u001b[0;32m      2\u001b[0m \u001b[1;33m\u001b[0m\u001b[0m\n\u001b[1;32m----> 3\u001b[1;33m \u001b[0mmin_nb\u001b[0m \u001b[1;33m=\u001b[0m \u001b[0mtotal_df\u001b[0m\u001b[1;33m.\u001b[0m\u001b[0mdist\u001b[0m\u001b[1;33m.\u001b[0m\u001b[0mvalue_counts\u001b[0m\u001b[1;33m(\u001b[0m\u001b[1;33m)\u001b[0m\u001b[1;33m.\u001b[0m\u001b[0mmin\u001b[0m\u001b[1;33m(\u001b[0m\u001b[1;33m)\u001b[0m\u001b[1;33m\u001b[0m\u001b[1;33m\u001b[0m\u001b[0m\n\u001b[0m\u001b[0;32m      4\u001b[0m \u001b[1;31m#min_nb = 2000\u001b[0m\u001b[1;33m\u001b[0m\u001b[1;33m\u001b[0m\u001b[1;33m\u001b[0m\u001b[0m\n\u001b[0;32m      5\u001b[0m \u001b[0mdistances\u001b[0m \u001b[1;33m=\u001b[0m \u001b[0mtotal_df\u001b[0m\u001b[1;33m.\u001b[0m\u001b[0mdist\u001b[0m\u001b[1;33m.\u001b[0m\u001b[0munique\u001b[0m\u001b[1;33m(\u001b[0m\u001b[1;33m)\u001b[0m\u001b[1;33m\u001b[0m\u001b[1;33m\u001b[0m\u001b[0m\n",
      "\u001b[1;31mNameError\u001b[0m: name 'total_df' is not defined"
     ]
    }
   ],
   "source": [
    "temp = pd.DataFrame()\n",
    "\n",
    "min_nb = total_df.dist.value_counts().min()\n",
    "#min_nb = 2000\n",
    "distances = total_df.dist.unique()\n",
    "\n",
    "for dist in distances:\n",
    "    temp = pd.concat([temp, total_df[total_df.loc[:,'dist'] == dist].iloc[0:min_nb,:]])\n",
    "\n",
    "total_df = temp"
   ]
  },
  {
   "cell_type": "code",
   "execution_count": null,
   "metadata": {},
   "outputs": [],
   "source": [
    "sns.displot(total_df, x=\"rssi\", hue=\"dist\", kind=\"kde\",fill=True, palette = sns.color_palette(\"hls\",len(distances)))"
   ]
  },
  {
   "cell_type": "markdown",
   "metadata": {},
   "source": [
    "# Pre-processing"
   ]
  },
  {
   "cell_type": "code",
   "execution_count": 4,
   "metadata": {},
   "outputs": [],
   "source": [
    "tx = 6 #beacon tx\n",
    "ref = -64 #from kontakt\n",
    "\n",
    "def db_to_meters(RSSI, measure_ref, N):\n",
    "        \"\"\"\n",
    "        Converts dB to meters.\n",
    "        \"\"\"\n",
    "        d = 10 ** ((measure_ref - RSSI) / (10 * N))\n",
    "        return d\n",
    "\n",
    "def meters_to_db(dist, measure_ref, N):\n",
    "    \"\"\"\n",
    "    Converts meters to DB\n",
    "    \"\"\"\n",
    "    return measure_ref-10*N*np.log10(dist)"
   ]
  },
  {
   "cell_type": "code",
   "execution_count": 5,
   "metadata": {},
   "outputs": [],
   "source": [
    "def rolling_window(test_df, filter_size, var_coeff):\n",
    "    test_df = test_df.reset_index(drop=True)\n",
    "    test_df.loc[:,'roll']=np.nan\n",
    "    for i in range(filter_size,  test_df.shape[0]):\n",
    "            temp = test_df.iloc[i-filter_size:i]\n",
    "            temp = temp.reset_index(drop=True)\n",
    "            if bool(all(elem == temp.dist[0] for elem in temp.dist)) :\n",
    "                var = var_coeff * temp.loc[:,'rssi'].var()\n",
    "                initial_value_guess = meters_to_db(temp.dist[filter_size-1]/100, ref, tx) \n",
    "                observation_covariance = np.diag([var]) ** 2\n",
    "                kf = KalmanFilter(\n",
    "                initial_state_mean = initial_value_guess,\n",
    "                initial_state_covariance = observation_covariance,\n",
    "                observation_covariance = observation_covariance\n",
    "                )\n",
    "\n",
    "                pred_state, state_cov = kf.smooth(np.flip(temp.loc[:,'rssi']))\n",
    "\n",
    "                test_df.loc[i-1,'roll'] = pred_state[filter_size-1]\n",
    "    return test_df\n",
    "\n",
    "#test_df = rolling_window(total_df, 50, 10)"
   ]
  },
  {
   "cell_type": "code",
   "execution_count": 6,
   "metadata": {},
   "outputs": [],
   "source": [
    "def kalmanFilter(temp):\n",
    "    var_coeff = 15\n",
    "    var = var_coeff * temp.var()\n",
    "    initial_value_guess = db_to_meters(temp.iloc[-1]/100, ref, tx) \n",
    "    observation_covariance = np.diag([var]) ** 2\n",
    "    kf = KalmanFilter(\n",
    "    initial_state_mean = initial_value_guess,\n",
    "    initial_state_covariance = observation_covariance,\n",
    "    observation_covariance = observation_covariance\n",
    "    )\n",
    "    pred_state, state_cov = kf.smooth(np.flip(temp))\n",
    "    return pred_state[-1]"
   ]
  },
  {
   "cell_type": "code",
   "execution_count": 7,
   "metadata": {},
   "outputs": [
    {
     "ename": "NameError",
     "evalue": "name 'total_df' is not defined",
     "output_type": "error",
     "traceback": [
      "\u001b[1;31m---------------------------------------------------------------------------\u001b[0m",
      "\u001b[1;31mNameError\u001b[0m                                 Traceback (most recent call last)",
      "\u001b[1;32m<ipython-input-7-974303a5164a>\u001b[0m in \u001b[0;36m<module>\u001b[1;34m\u001b[0m\n\u001b[1;32m----> 1\u001b[1;33m \u001b[0mdistances\u001b[0m \u001b[1;33m=\u001b[0m \u001b[0mtotal_df\u001b[0m\u001b[1;33m.\u001b[0m\u001b[0mdist\u001b[0m\u001b[1;33m.\u001b[0m\u001b[0munique\u001b[0m\u001b[1;33m(\u001b[0m\u001b[1;33m)\u001b[0m\u001b[1;33m\u001b[0m\u001b[1;33m\u001b[0m\u001b[0m\n\u001b[0m\u001b[0;32m      2\u001b[0m \u001b[0mdistances\u001b[0m\u001b[1;33m\u001b[0m\u001b[1;33m\u001b[0m\u001b[0m\n\u001b[0;32m      3\u001b[0m \u001b[0mtest_df\u001b[0m \u001b[1;33m=\u001b[0m \u001b[0mtotal_df\u001b[0m\u001b[1;33m\u001b[0m\u001b[1;33m\u001b[0m\u001b[0m\n",
      "\u001b[1;31mNameError\u001b[0m: name 'total_df' is not defined"
     ]
    }
   ],
   "source": [
    "distances = total_df.dist.unique()\n",
    "distances\n",
    "test_df = total_df"
   ]
  },
  {
   "cell_type": "code",
   "execution_count": null,
   "metadata": {},
   "outputs": [],
   "source": [
    "for dist in distances:\n",
    "    indexes = test_df.dist==dist\n",
    "    test_df.loc[indexes, \"roll\"] = test_df.loc[indexes, \"rssi\"].rolling(60).apply(kalmanFilter)\n",
    "    \n",
    "test_df = test_df.dropna().reset_index(drop=True)"
   ]
  },
  {
   "cell_type": "code",
   "execution_count": 15,
   "metadata": {},
   "outputs": [],
   "source": [
    "test_df.to_csv ('name.csv', index=False, header=True)"
   ]
  },
  {
   "cell_type": "code",
   "execution_count": 8,
   "metadata": {},
   "outputs": [],
   "source": [
    "test_df = pd.read_csv(\"./Rasp_Pre_processed_size_60_varCoeff_15_7635_samples.csv\")"
   ]
  },
  {
   "cell_type": "code",
   "execution_count": 9,
   "metadata": {},
   "outputs": [
    {
     "data": {
      "text/html": [
       "<div>\n",
       "<style scoped>\n",
       "    .dataframe tbody tr th:only-of-type {\n",
       "        vertical-align: middle;\n",
       "    }\n",
       "\n",
       "    .dataframe tbody tr th {\n",
       "        vertical-align: top;\n",
       "    }\n",
       "\n",
       "    .dataframe thead th {\n",
       "        text-align: right;\n",
       "    }\n",
       "</style>\n",
       "<table border=\"1\" class=\"dataframe\">\n",
       "  <thead>\n",
       "    <tr style=\"text-align: right;\">\n",
       "      <th></th>\n",
       "      <th>address</th>\n",
       "      <th>rssi</th>\n",
       "      <th>dist</th>\n",
       "      <th>battery</th>\n",
       "      <th>txPower</th>\n",
       "      <th>interval</th>\n",
       "      <th>roll</th>\n",
       "    </tr>\n",
       "  </thead>\n",
       "  <tbody>\n",
       "    <tr>\n",
       "      <th>0</th>\n",
       "      <td>ef:86:35:dd:c3:f7</td>\n",
       "      <td>-57</td>\n",
       "      <td>50</td>\n",
       "      <td>69</td>\n",
       "      <td>6</td>\n",
       "      <td>500</td>\n",
       "      <td>-51.130423</td>\n",
       "    </tr>\n",
       "    <tr>\n",
       "      <th>1</th>\n",
       "      <td>e3:6f:28:36:5a:db</td>\n",
       "      <td>-52</td>\n",
       "      <td>50</td>\n",
       "      <td>43</td>\n",
       "      <td>6</td>\n",
       "      <td>500</td>\n",
       "      <td>-51.146852</td>\n",
       "    </tr>\n",
       "    <tr>\n",
       "      <th>2</th>\n",
       "      <td>d1:0b:14:b3:18:6a</td>\n",
       "      <td>-57</td>\n",
       "      <td>50</td>\n",
       "      <td>43</td>\n",
       "      <td>6</td>\n",
       "      <td>500</td>\n",
       "      <td>-51.574123</td>\n",
       "    </tr>\n",
       "    <tr>\n",
       "      <th>3</th>\n",
       "      <td>d5:b1:89:8b:b8:c5</td>\n",
       "      <td>-41</td>\n",
       "      <td>50</td>\n",
       "      <td>67</td>\n",
       "      <td>6</td>\n",
       "      <td>500</td>\n",
       "      <td>-51.377467</td>\n",
       "    </tr>\n",
       "    <tr>\n",
       "      <th>4</th>\n",
       "      <td>e2:51:e0:31:ee:0e</td>\n",
       "      <td>-47</td>\n",
       "      <td>50</td>\n",
       "      <td>20</td>\n",
       "      <td>6</td>\n",
       "      <td>500</td>\n",
       "      <td>-51.377793</td>\n",
       "    </tr>\n",
       "    <tr>\n",
       "      <th>...</th>\n",
       "      <td>...</td>\n",
       "      <td>...</td>\n",
       "      <td>...</td>\n",
       "      <td>...</td>\n",
       "      <td>...</td>\n",
       "      <td>...</td>\n",
       "      <td>...</td>\n",
       "    </tr>\n",
       "    <tr>\n",
       "      <th>90907</th>\n",
       "      <td>ef:86:35:dd:c3:f7</td>\n",
       "      <td>-70</td>\n",
       "      <td>1100</td>\n",
       "      <td>69</td>\n",
       "      <td>6</td>\n",
       "      <td>500</td>\n",
       "      <td>-69.294878</td>\n",
       "    </tr>\n",
       "    <tr>\n",
       "      <th>90908</th>\n",
       "      <td>f7:9c:08:9a:42:ed</td>\n",
       "      <td>-69</td>\n",
       "      <td>1100</td>\n",
       "      <td>50</td>\n",
       "      <td>6</td>\n",
       "      <td>500</td>\n",
       "      <td>-69.294941</td>\n",
       "    </tr>\n",
       "    <tr>\n",
       "      <th>90909</th>\n",
       "      <td>e3:6f:28:36:5a:db</td>\n",
       "      <td>-78</td>\n",
       "      <td>1100</td>\n",
       "      <td>43</td>\n",
       "      <td>6</td>\n",
       "      <td>500</td>\n",
       "      <td>-69.458827</td>\n",
       "    </tr>\n",
       "    <tr>\n",
       "      <th>90910</th>\n",
       "      <td>d5:b1:89:8b:b8:c5</td>\n",
       "      <td>-74</td>\n",
       "      <td>1100</td>\n",
       "      <td>67</td>\n",
       "      <td>6</td>\n",
       "      <td>500</td>\n",
       "      <td>-69.737937</td>\n",
       "    </tr>\n",
       "    <tr>\n",
       "      <th>90911</th>\n",
       "      <td>d1:0b:14:b3:18:6a</td>\n",
       "      <td>-83</td>\n",
       "      <td>1100</td>\n",
       "      <td>43</td>\n",
       "      <td>6</td>\n",
       "      <td>500</td>\n",
       "      <td>-69.803140</td>\n",
       "    </tr>\n",
       "  </tbody>\n",
       "</table>\n",
       "<p>90912 rows × 7 columns</p>\n",
       "</div>"
      ],
      "text/plain": [
       "                 address  rssi  dist  battery  txPower  interval       roll\n",
       "0      ef:86:35:dd:c3:f7   -57    50       69        6       500 -51.130423\n",
       "1      e3:6f:28:36:5a:db   -52    50       43        6       500 -51.146852\n",
       "2      d1:0b:14:b3:18:6a   -57    50       43        6       500 -51.574123\n",
       "3      d5:b1:89:8b:b8:c5   -41    50       67        6       500 -51.377467\n",
       "4      e2:51:e0:31:ee:0e   -47    50       20        6       500 -51.377793\n",
       "...                  ...   ...   ...      ...      ...       ...        ...\n",
       "90907  ef:86:35:dd:c3:f7   -70  1100       69        6       500 -69.294878\n",
       "90908  f7:9c:08:9a:42:ed   -69  1100       50        6       500 -69.294941\n",
       "90909  e3:6f:28:36:5a:db   -78  1100       43        6       500 -69.458827\n",
       "90910  d5:b1:89:8b:b8:c5   -74  1100       67        6       500 -69.737937\n",
       "90911  d1:0b:14:b3:18:6a   -83  1100       43        6       500 -69.803140\n",
       "\n",
       "[90912 rows x 7 columns]"
      ]
     },
     "execution_count": 9,
     "metadata": {},
     "output_type": "execute_result"
    }
   ],
   "source": [
    "test_df"
   ]
  },
  {
   "cell_type": "code",
   "execution_count": 12,
   "metadata": {
    "scrolled": false
   },
   "outputs": [
    {
     "ename": "NameError",
     "evalue": "name 'distances' is not defined",
     "output_type": "error",
     "traceback": [
      "\u001b[1;31m---------------------------------------------------------------------------\u001b[0m",
      "\u001b[1;31mNameError\u001b[0m                                 Traceback (most recent call last)",
      "\u001b[1;32m<ipython-input-12-9e440ec7c48f>\u001b[0m in \u001b[0;36m<module>\u001b[1;34m\u001b[0m\n\u001b[1;32m----> 1\u001b[1;33m \u001b[0msns\u001b[0m\u001b[1;33m.\u001b[0m\u001b[0mdisplot\u001b[0m\u001b[1;33m(\u001b[0m\u001b[0mtest_df\u001b[0m\u001b[1;33m,\u001b[0m \u001b[0mx\u001b[0m\u001b[1;33m=\u001b[0m\u001b[1;34m\"roll\"\u001b[0m\u001b[1;33m,\u001b[0m \u001b[0mhue\u001b[0m\u001b[1;33m=\u001b[0m\u001b[1;34m\"dist\"\u001b[0m\u001b[1;33m,\u001b[0m \u001b[0mkind\u001b[0m\u001b[1;33m=\u001b[0m\u001b[1;34m\"kde\"\u001b[0m\u001b[1;33m,\u001b[0m\u001b[0mfill\u001b[0m\u001b[1;33m=\u001b[0m\u001b[1;32mTrue\u001b[0m\u001b[1;33m,\u001b[0m \u001b[0mpalette\u001b[0m \u001b[1;33m=\u001b[0m \u001b[0msns\u001b[0m\u001b[1;33m.\u001b[0m\u001b[0mcolor_palette\u001b[0m\u001b[1;33m(\u001b[0m\u001b[1;34m\"hls\"\u001b[0m\u001b[1;33m,\u001b[0m\u001b[0mlen\u001b[0m\u001b[1;33m(\u001b[0m\u001b[0mdistances\u001b[0m\u001b[1;33m)\u001b[0m\u001b[1;33m)\u001b[0m\u001b[1;33m)\u001b[0m\u001b[1;33m\u001b[0m\u001b[1;33m\u001b[0m\u001b[0m\n\u001b[0m",
      "\u001b[1;31mNameError\u001b[0m: name 'distances' is not defined"
     ]
    }
   ],
   "source": [
    "sns.displot(test_df, x=\"roll\", hue=\"dist\", kind=\"kde\",fill=True, palette = sns.color_palette(\"hls\",len(distances)))"
   ]
  },
  {
   "cell_type": "code",
   "execution_count": 13,
   "metadata": {},
   "outputs": [],
   "source": [
    "import random\n",
    "\n",
    "distances = test_df.dist.unique()\n",
    "\n",
    "to_keep_for_train = 750\n",
    "index = []\n",
    "temp_train = pd.DataFrame()\n",
    "temp_test = pd.DataFrame()\n",
    "\n",
    "for dist in distances:\n",
    "    min_nb = len(test_df[test_df.loc[:,'dist'] == dist])\n",
    "    index_to_test = [random.randrange(1, min_nb, 1) for i in range(to_keep_for_train)]\n",
    "    index_tot = index_tot = np.linspace(0,min_nb-1,min_nb)\n",
    "    index_to_train = np.setdiff1d(index_tot, index_to_test)\n",
    "    temp_train = pd.concat([temp_train, test_df[test_df.loc[:,'dist'] == dist].reset_index(drop=True).iloc[index_to_train,:]])\n",
    "    temp_test = pd.concat([temp_test, test_df[test_df.loc[:,'dist'] == dist].reset_index(drop=True).iloc[index_to_test,:]])\n",
    "                          \n",
    "train_set = temp_train.reset_index(drop=True)\n",
    "test_set = temp_test.reset_index(drop=True)"
   ]
  },
  {
   "cell_type": "markdown",
   "metadata": {},
   "source": [
    "# Feature augmentation"
   ]
  },
  {
   "cell_type": "code",
   "execution_count": 14,
   "metadata": {},
   "outputs": [],
   "source": [
    "def feature_augmentation(X):\n",
    "        return np.array([X, X**2, X**3, X**4, X**5]).transpose()\n",
    "\n",
    "def feature_augmentation_func(test_set):\n",
    "\n",
    "    test_set = test_set[~test_set.roll.isnull()]\n",
    "    test_set = test_set.reset_index(drop=True)\n",
    "    X = feature_augmentation(test_set.roll.values)\n",
    "    #X = np.concatenate([feature_augmentation(test_set.roll.values), feature_augmentation(db_to_meters(test_set.roll, ref, tx))], axis = 1)\n",
    "    #X = feature_augmentation(db_to_meters(test_set.roll, ref, tx))\n",
    "    y = test_set.dist.values\n",
    "\n",
    "    #Pre-processing\n",
    "    scaler = preprocessing.StandardScaler().fit(X)\n",
    "    X_scaled = scaler.transform(X)\n",
    "    ones = np.ones([X_scaled.shape[0],1])\n",
    "    X_scaled = np.concatenate([ones, X_scaled], axis = 1)\n",
    "    \n",
    "    filename = 'scaler.sav'\n",
    "    pickle.dump(scaler, open(filename, 'wb'))\n",
    "    \n",
    "    #Train - test split\n",
    "    return X_scaled, y\n"
   ]
  },
  {
   "cell_type": "code",
   "execution_count": 15,
   "metadata": {},
   "outputs": [],
   "source": [
    "feature_df = pd.DataFrame(train_set[[\"roll\",\"dist\"]])\n",
    "\n",
    "X_scaled, y = feature_augmentation_func(feature_df)\n",
    "\n",
    "X_train, X_test, y_train, y_test = train_test_split(X_scaled, y, test_size=0.1, random_state=42)  "
   ]
  },
  {
   "cell_type": "markdown",
   "metadata": {},
   "source": [
    "# Model testing"
   ]
  },
  {
   "cell_type": "markdown",
   "metadata": {},
   "source": [
    "## Random Forest Regressor - rfr"
   ]
  },
  {
   "cell_type": "markdown",
   "metadata": {},
   "source": [
    "### - Grid Search"
   ]
  },
  {
   "cell_type": "code",
   "execution_count": 48,
   "metadata": {},
   "outputs": [
    {
     "name": "stdout",
     "output_type": "stream",
     "text": [
      "Fitting 5 folds for each of 30 candidates, totalling 150 fits\n",
      "[CV 1/5] END ....max_depth=10, n_estimators=500;, score=0.927 total time=  27.6s\n",
      "[CV 2/5] END ....max_depth=10, n_estimators=500;, score=0.927 total time=  23.3s\n",
      "[CV 3/5] END ....max_depth=10, n_estimators=500;, score=0.927 total time=  23.9s\n",
      "[CV 4/5] END ....max_depth=10, n_estimators=500;, score=0.926 total time=  24.3s\n",
      "[CV 5/5] END ....max_depth=10, n_estimators=500;, score=0.927 total time=  31.9s\n",
      "[CV 1/5] END ....max_depth=10, n_estimators=750;, score=0.927 total time=  56.6s\n",
      "[CV 2/5] END ....max_depth=10, n_estimators=750;, score=0.927 total time=  49.9s\n",
      "[CV 3/5] END ....max_depth=10, n_estimators=750;, score=0.927 total time=  42.2s\n",
      "[CV 4/5] END ....max_depth=10, n_estimators=750;, score=0.926 total time=  43.4s\n",
      "[CV 5/5] END ....max_depth=10, n_estimators=750;, score=0.927 total time=  46.6s\n",
      "[CV 1/5] END ...max_depth=10, n_estimators=1000;, score=0.927 total time= 1.2min\n",
      "[CV 2/5] END ...max_depth=10, n_estimators=1000;, score=0.927 total time= 1.2min\n",
      "[CV 3/5] END ...max_depth=10, n_estimators=1000;, score=0.927 total time= 1.1min\n",
      "[CV 4/5] END ...max_depth=10, n_estimators=1000;, score=0.926 total time= 1.1min\n",
      "[CV 5/5] END ...max_depth=10, n_estimators=1000;, score=0.927 total time= 1.3min\n",
      "[CV 1/5] END ...max_depth=10, n_estimators=2000;, score=0.927 total time= 2.6min\n",
      "[CV 2/5] END ...max_depth=10, n_estimators=2000;, score=0.927 total time= 2.4min\n",
      "[CV 3/5] END ...max_depth=10, n_estimators=2000;, score=0.927 total time= 2.7min\n",
      "[CV 4/5] END ...max_depth=10, n_estimators=2000;, score=0.926 total time= 2.6min\n",
      "[CV 5/5] END ...max_depth=10, n_estimators=2000;, score=0.927 total time= 2.9min\n",
      "[CV 1/5] END ...max_depth=10, n_estimators=3000;, score=0.927 total time= 3.8min\n",
      "[CV 2/5] END ...max_depth=10, n_estimators=3000;, score=0.927 total time= 4.5min\n",
      "[CV 3/5] END ...max_depth=10, n_estimators=3000;, score=0.927 total time= 3.8min\n",
      "[CV 4/5] END ...max_depth=10, n_estimators=3000;, score=0.926 total time= 4.5min\n",
      "[CV 5/5] END ...max_depth=10, n_estimators=3000;, score=0.927 total time= 3.8min\n",
      "[CV 1/5] END ....max_depth=15, n_estimators=500;, score=0.928 total time=  53.9s\n",
      "[CV 2/5] END ....max_depth=15, n_estimators=500;, score=0.927 total time=  54.2s\n",
      "[CV 3/5] END ....max_depth=15, n_estimators=500;, score=0.928 total time=  52.0s\n",
      "[CV 4/5] END ....max_depth=15, n_estimators=500;, score=0.927 total time=  44.6s\n",
      "[CV 5/5] END ....max_depth=15, n_estimators=500;, score=0.927 total time=  42.0s\n",
      "[CV 1/5] END ....max_depth=15, n_estimators=750;, score=0.928 total time= 1.1min\n",
      "[CV 2/5] END ....max_depth=15, n_estimators=750;, score=0.927 total time= 1.3min\n",
      "[CV 3/5] END ....max_depth=15, n_estimators=750;, score=0.928 total time= 1.3min\n",
      "[CV 4/5] END ....max_depth=15, n_estimators=750;, score=0.927 total time= 1.3min\n",
      "[CV 5/5] END ....max_depth=15, n_estimators=750;, score=0.927 total time= 1.1min\n",
      "[CV 1/5] END ...max_depth=15, n_estimators=1000;, score=0.928 total time= 1.4min\n",
      "[CV 2/5] END ...max_depth=15, n_estimators=1000;, score=0.927 total time= 1.7min\n",
      "[CV 3/5] END ...max_depth=15, n_estimators=1000;, score=0.928 total time= 1.9min\n",
      "[CV 4/5] END ...max_depth=15, n_estimators=1000;, score=0.927 total time= 1.5min\n",
      "[CV 5/5] END ...max_depth=15, n_estimators=1000;, score=0.927 total time= 1.5min\n",
      "[CV 1/5] END ...max_depth=15, n_estimators=2000;, score=0.928 total time= 3.6min\n",
      "[CV 2/5] END ...max_depth=15, n_estimators=2000;, score=0.927 total time= 3.0min\n",
      "[CV 3/5] END ...max_depth=15, n_estimators=2000;, score=0.928 total time= 3.3min\n",
      "[CV 4/5] END ...max_depth=15, n_estimators=2000;, score=0.927 total time= 3.3min\n",
      "[CV 5/5] END ...max_depth=15, n_estimators=2000;, score=0.927 total time= 3.1min\n",
      "[CV 1/5] END ...max_depth=15, n_estimators=3000;, score=0.928 total time= 5.1min\n",
      "[CV 2/5] END ...max_depth=15, n_estimators=3000;, score=0.927 total time= 4.7min\n",
      "[CV 3/5] END ...max_depth=15, n_estimators=3000;, score=0.928 total time= 4.9min\n",
      "[CV 4/5] END ...max_depth=15, n_estimators=3000;, score=0.927 total time= 4.9min\n",
      "[CV 5/5] END ...max_depth=15, n_estimators=3000;, score=0.927 total time= 4.9min\n",
      "[CV 1/5] END ....max_depth=20, n_estimators=500;, score=0.923 total time=  54.7s\n",
      "[CV 2/5] END ....max_depth=20, n_estimators=500;, score=0.922 total time=  55.0s\n",
      "[CV 3/5] END ....max_depth=20, n_estimators=500;, score=0.924 total time=  54.6s\n",
      "[CV 4/5] END ....max_depth=20, n_estimators=500;, score=0.923 total time=  54.7s\n",
      "[CV 5/5] END ....max_depth=20, n_estimators=500;, score=0.923 total time=  55.7s\n",
      "[CV 1/5] END ....max_depth=20, n_estimators=750;, score=0.923 total time= 1.4min\n",
      "[CV 2/5] END ....max_depth=20, n_estimators=750;, score=0.922 total time= 1.4min\n",
      "[CV 3/5] END ....max_depth=20, n_estimators=750;, score=0.924 total time= 1.4min\n",
      "[CV 4/5] END ....max_depth=20, n_estimators=750;, score=0.923 total time= 1.4min\n",
      "[CV 5/5] END ....max_depth=20, n_estimators=750;, score=0.923 total time= 1.4min\n",
      "[CV 1/5] END ...max_depth=20, n_estimators=1000;, score=0.923 total time= 1.9min\n",
      "[CV 2/5] END ...max_depth=20, n_estimators=1000;, score=0.922 total time= 1.9min\n",
      "[CV 3/5] END ...max_depth=20, n_estimators=1000;, score=0.924 total time= 1.9min\n",
      "[CV 4/5] END ...max_depth=20, n_estimators=1000;, score=0.923 total time= 1.8min\n",
      "[CV 5/5] END ...max_depth=20, n_estimators=1000;, score=0.923 total time= 1.9min\n",
      "[CV 1/5] END ...max_depth=20, n_estimators=2000;, score=0.923 total time= 3.7min\n",
      "[CV 2/5] END ...max_depth=20, n_estimators=2000;, score=0.922 total time= 3.7min\n",
      "[CV 3/5] END ...max_depth=20, n_estimators=2000;, score=0.924 total time= 3.7min\n",
      "[CV 4/5] END ...max_depth=20, n_estimators=2000;, score=0.923 total time= 3.7min\n",
      "[CV 5/5] END ...max_depth=20, n_estimators=2000;, score=0.923 total time= 3.8min\n",
      "[CV 1/5] END ...max_depth=20, n_estimators=3000;, score=0.923 total time= 5.5min\n",
      "[CV 2/5] END ...max_depth=20, n_estimators=3000;, score=0.922 total time= 5.7min\n",
      "[CV 3/5] END ...max_depth=20, n_estimators=3000;, score=0.924 total time= 5.6min\n",
      "[CV 4/5] END ...max_depth=20, n_estimators=3000;, score=0.923 total time= 5.5min\n",
      "[CV 5/5] END ...max_depth=20, n_estimators=3000;, score=0.923 total time= 5.6min\n",
      "[CV 1/5] END ....max_depth=30, n_estimators=500;, score=0.911 total time= 1.0min\n",
      "[CV 2/5] END ....max_depth=30, n_estimators=500;, score=0.909 total time= 1.0min\n",
      "[CV 3/5] END ....max_depth=30, n_estimators=500;, score=0.911 total time= 1.0min\n",
      "[CV 4/5] END ....max_depth=30, n_estimators=500;, score=0.911 total time= 1.0min\n",
      "[CV 5/5] END ....max_depth=30, n_estimators=500;, score=0.911 total time= 1.0min\n",
      "[CV 1/5] END ....max_depth=30, n_estimators=750;, score=0.911 total time= 1.6min\n",
      "[CV 2/5] END ....max_depth=30, n_estimators=750;, score=0.909 total time= 1.6min\n",
      "[CV 3/5] END ....max_depth=30, n_estimators=750;, score=0.911 total time= 1.5min\n",
      "[CV 4/5] END ....max_depth=30, n_estimators=750;, score=0.911 total time= 1.6min\n",
      "[CV 5/5] END ....max_depth=30, n_estimators=750;, score=0.911 total time= 1.7min\n",
      "[CV 1/5] END ...max_depth=30, n_estimators=1000;, score=0.911 total time= 2.1min\n",
      "[CV 2/5] END ...max_depth=30, n_estimators=1000;, score=0.909 total time= 2.1min\n",
      "[CV 3/5] END ...max_depth=30, n_estimators=1000;, score=0.911 total time= 2.1min\n",
      "[CV 4/5] END ...max_depth=30, n_estimators=1000;, score=0.911 total time= 2.1min\n",
      "[CV 5/5] END ...max_depth=30, n_estimators=1000;, score=0.911 total time= 2.1min\n",
      "[CV 1/5] END ...max_depth=30, n_estimators=2000;, score=0.911 total time= 4.2min\n",
      "[CV 2/5] END ...max_depth=30, n_estimators=2000;, score=0.909 total time= 4.3min\n",
      "[CV 3/5] END ...max_depth=30, n_estimators=2000;, score=0.911 total time= 4.2min\n",
      "[CV 4/5] END ...max_depth=30, n_estimators=2000;, score=0.911 total time= 4.3min\n",
      "[CV 5/5] END ...max_depth=30, n_estimators=2000;, score=0.911 total time= 4.2min\n",
      "[CV 1/5] END ...max_depth=30, n_estimators=3000;, score=0.911 total time= 6.3min\n",
      "[CV 2/5] END ...max_depth=30, n_estimators=3000;, score=0.909 total time= 6.3min\n",
      "[CV 3/5] END ...max_depth=30, n_estimators=3000;, score=0.911 total time= 6.3min\n",
      "[CV 4/5] END ...max_depth=30, n_estimators=3000;, score=0.911 total time= 6.3min\n",
      "[CV 5/5] END ...max_depth=30, n_estimators=3000;, score=0.911 total time= 6.3min\n",
      "[CV 1/5] END ....max_depth=40, n_estimators=500;, score=0.905 total time= 1.1min\n"
     ]
    },
    {
     "name": "stdout",
     "output_type": "stream",
     "text": [
      "[CV 2/5] END ....max_depth=40, n_estimators=500;, score=0.903 total time= 1.1min\n",
      "[CV 3/5] END ....max_depth=40, n_estimators=500;, score=0.906 total time= 1.1min\n",
      "[CV 4/5] END ....max_depth=40, n_estimators=500;, score=0.906 total time= 1.1min\n",
      "[CV 5/5] END ....max_depth=40, n_estimators=500;, score=0.906 total time= 1.1min\n",
      "[CV 1/5] END ....max_depth=40, n_estimators=750;, score=0.905 total time= 1.6min\n",
      "[CV 2/5] END ....max_depth=40, n_estimators=750;, score=0.903 total time= 1.6min\n",
      "[CV 3/5] END ....max_depth=40, n_estimators=750;, score=0.906 total time= 1.6min\n",
      "[CV 4/5] END ....max_depth=40, n_estimators=750;, score=0.906 total time= 1.6min\n",
      "[CV 5/5] END ....max_depth=40, n_estimators=750;, score=0.906 total time= 1.7min\n",
      "[CV 1/5] END ...max_depth=40, n_estimators=1000;, score=0.905 total time= 2.1min\n",
      "[CV 2/5] END ...max_depth=40, n_estimators=1000;, score=0.903 total time= 2.2min\n",
      "[CV 3/5] END ...max_depth=40, n_estimators=1000;, score=0.906 total time= 2.1min\n",
      "[CV 4/5] END ...max_depth=40, n_estimators=1000;, score=0.906 total time= 2.2min\n",
      "[CV 5/5] END ...max_depth=40, n_estimators=1000;, score=0.906 total time= 2.1min\n",
      "[CV 1/5] END ...max_depth=40, n_estimators=2000;, score=0.906 total time= 4.3min\n",
      "[CV 2/5] END ...max_depth=40, n_estimators=2000;, score=0.903 total time= 4.4min\n",
      "[CV 3/5] END ...max_depth=40, n_estimators=2000;, score=0.906 total time= 4.3min\n",
      "[CV 4/5] END ...max_depth=40, n_estimators=2000;, score=0.906 total time= 4.3min\n",
      "[CV 5/5] END ...max_depth=40, n_estimators=2000;, score=0.906 total time= 4.3min\n",
      "[CV 1/5] END ...max_depth=40, n_estimators=3000;, score=0.906 total time= 6.5min\n",
      "[CV 2/5] END ...max_depth=40, n_estimators=3000;, score=0.903 total time= 6.7min\n",
      "[CV 3/5] END ...max_depth=40, n_estimators=3000;, score=0.906 total time= 6.5min\n",
      "[CV 4/5] END ...max_depth=40, n_estimators=3000;, score=0.906 total time= 6.8min\n",
      "[CV 5/5] END ...max_depth=40, n_estimators=3000;, score=0.906 total time= 6.5min\n",
      "[CV 1/5] END ....max_depth=50, n_estimators=500;, score=0.904 total time= 1.1min\n",
      "[CV 2/5] END ....max_depth=50, n_estimators=500;, score=0.902 total time= 1.1min\n",
      "[CV 3/5] END ....max_depth=50, n_estimators=500;, score=0.904 total time= 1.1min\n",
      "[CV 4/5] END ....max_depth=50, n_estimators=500;, score=0.905 total time= 1.1min\n",
      "[CV 5/5] END ....max_depth=50, n_estimators=500;, score=0.905 total time= 1.1min\n",
      "[CV 1/5] END ....max_depth=50, n_estimators=750;, score=0.904 total time= 1.6min\n",
      "[CV 2/5] END ....max_depth=50, n_estimators=750;, score=0.902 total time= 1.7min\n",
      "[CV 3/5] END ....max_depth=50, n_estimators=750;, score=0.904 total time= 1.6min\n",
      "[CV 4/5] END ....max_depth=50, n_estimators=750;, score=0.905 total time= 1.6min\n",
      "[CV 5/5] END ....max_depth=50, n_estimators=750;, score=0.905 total time= 1.6min\n",
      "[CV 1/5] END ...max_depth=50, n_estimators=1000;, score=0.904 total time= 2.2min\n",
      "[CV 2/5] END ...max_depth=50, n_estimators=1000;, score=0.902 total time= 2.2min\n",
      "[CV 3/5] END ...max_depth=50, n_estimators=1000;, score=0.904 total time= 2.1min\n",
      "[CV 4/5] END ...max_depth=50, n_estimators=1000;, score=0.905 total time= 2.2min\n",
      "[CV 5/5] END ...max_depth=50, n_estimators=1000;, score=0.905 total time= 2.2min\n",
      "[CV 1/5] END ...max_depth=50, n_estimators=2000;, score=0.904 total time= 4.3min\n",
      "[CV 2/5] END ...max_depth=50, n_estimators=2000;, score=0.902 total time= 4.3min\n",
      "[CV 3/5] END ...max_depth=50, n_estimators=2000;, score=0.904 total time= 4.4min\n",
      "[CV 4/5] END ...max_depth=50, n_estimators=2000;, score=0.905 total time= 4.4min\n",
      "[CV 5/5] END ...max_depth=50, n_estimators=2000;, score=0.905 total time= 4.4min\n",
      "[CV 1/5] END ...max_depth=50, n_estimators=3000;, score=0.904 total time= 6.6min\n",
      "[CV 2/5] END ...max_depth=50, n_estimators=3000;, score=0.902 total time= 6.9min\n",
      "[CV 3/5] END ...max_depth=50, n_estimators=3000;, score=0.904 total time= 6.9min\n",
      "[CV 4/5] END ...max_depth=50, n_estimators=3000;, score=0.905 total time= 7.0min\n",
      "[CV 5/5] END ...max_depth=50, n_estimators=3000;, score=0.905 total time= 6.7min\n"
     ]
    },
    {
     "data": {
      "text/plain": [
       "GridSearchCV(estimator=RandomForestRegressor(n_jobs=-1, random_state=0),\n",
       "             param_grid={'max_depth': [10, 15, 20, 30, 40, 50],\n",
       "                         'n_estimators': [500, 750, 1000, 2000, 3000]},\n",
       "             verbose=3)"
      ]
     },
     "execution_count": 48,
     "metadata": {},
     "output_type": "execute_result"
    }
   ],
   "source": [
    "rfr_class = RandomForestRegressor(n_jobs=-1, random_state=0)\n",
    "\n",
    "parameters = {'n_estimators':[500, 750, 1000, 2000, 3000], 'max_depth':[10, 15, 20, 30, 40, 50]}\n",
    "\n",
    "rfr_GS = GridSearchCV(rfr_class, parameters, verbose=3)\n",
    "\n",
    "rfr_GS.fit(X_train, y_train)"
   ]
  },
  {
   "cell_type": "code",
   "execution_count": 49,
   "metadata": {},
   "outputs": [
    {
     "name": "stdout",
     "output_type": "stream",
     "text": [
      "{'max_depth': 15, 'n_estimators': 3000}\n"
     ]
    }
   ],
   "source": [
    "print(rfr_GS.best_params_)"
   ]
  },
  {
   "cell_type": "markdown",
   "metadata": {},
   "source": [
    "### - Training"
   ]
  },
  {
   "cell_type": "code",
   "execution_count": 61,
   "metadata": {},
   "outputs": [
    {
     "data": {
      "text/plain": [
       "RandomForestRegressor(max_depth=15, n_estimators=3000, n_jobs=-1)"
      ]
     },
     "execution_count": 61,
     "metadata": {},
     "output_type": "execute_result"
    }
   ],
   "source": [
    "rfr = RandomForestRegressor(max_depth = 15, n_estimators = 3000, n_jobs=-1)\n",
    "rfr.fit(X_train, y_train)"
   ]
  },
  {
   "cell_type": "code",
   "execution_count": 62,
   "metadata": {},
   "outputs": [
    {
     "name": "stdout",
     "output_type": "stream",
     "text": [
      "                 0\n",
      "count  8235.000000\n",
      "mean     60.888582\n",
      "std      67.535501\n",
      "min       0.000000\n",
      "25%       9.039704\n",
      "50%      44.087931\n",
      "75%      83.798429\n",
      "max     429.821646\n"
     ]
    },
    {
     "data": {
      "text/plain": [
       "[<matplotlib.lines.Line2D at 0x201cf6adcd0>,\n",
       " <matplotlib.lines.Line2D at 0x201cf6addf0>]"
      ]
     },
     "execution_count": 62,
     "metadata": {},
     "output_type": "execute_result"
    },
    {
     "data": {
      "image/png": "[encoded data removed]",
      "text/plain": [
       "<Figure size 432x288 with 1 Axes>"
      ]
     },
     "metadata": {
      "needs_background": "light"
     },
     "output_type": "display_data"
    }
   ],
   "source": [
    "predicted = rfr.predict(X_test)\n",
    "expected = y_test\n",
    "print(pd.DataFrame(np.abs(expected - predicted)).describe())\n",
    "\n",
    "to_plot= pd.concat([pd.DataFrame(expected), pd.DataFrame(predicted)], axis=1)\n",
    "to_plot.columns = ['dist', 'pred']\n",
    "to_plot = to_plot.sort_values(by=['dist'], ignore_index=True)\n",
    "plt.plot(to_plot)"
   ]
  },
  {
   "cell_type": "markdown",
   "metadata": {},
   "source": [
    "## Gradient Boosting Regressor"
   ]
  },
  {
   "cell_type": "markdown",
   "metadata": {},
   "source": [
    "### - Grid search"
   ]
  },
  {
   "cell_type": "code",
   "execution_count": 67,
   "metadata": {},
   "outputs": [
    {
     "name": "stdout",
     "output_type": "stream",
     "text": [
      "Fitting 3 folds for each of 36 candidates, totalling 108 fits\n"
     ]
    },
    {
     "data": {
      "text/plain": [
       "GridSearchCV(cv=3, estimator=GradientBoostingRegressor(random_state=0),\n",
       "             n_jobs=-1,\n",
       "             param_grid={'learning_rate': [0.1, 0.01, 0.001],\n",
       "                         'n_estimators': [5000, 7500, 10000, 15000],\n",
       "                         'subsample': [0.25, 0.5, 0.75]},\n",
       "             verbose=3)"
      ]
     },
     "execution_count": 67,
     "metadata": {},
     "output_type": "execute_result"
    }
   ],
   "source": [
    "GBR_class = GradientBoostingRegressor(random_state=0)\n",
    "\n",
    "parameters = {'learning_rate':[1e-1, 1e-2, 1e-3], 'n_estimators':[5000, 7500, 10000, 15000], 'subsample':[0.25, 0.5, 0.75]}\n",
    "\n",
    "gbr_GS = GridSearchCV(GBR_class, parameters, n_jobs=-1, verbose=3, cv =3)\n",
    "\n",
    "gbr_GS.fit(X_train, y_train)"
   ]
  },
  {
   "cell_type": "code",
   "execution_count": 68,
   "metadata": {},
   "outputs": [
    {
     "name": "stdout",
     "output_type": "stream",
     "text": [
      "{'learning_rate': 0.01, 'n_estimators': 15000, 'subsample': 0.25}\n"
     ]
    }
   ],
   "source": [
    "print(gbr_GS.best_params_)"
   ]
  },
  {
   "cell_type": "markdown",
   "metadata": {},
   "source": [
    "### - Training"
   ]
  },
  {
   "cell_type": "code",
   "execution_count": 73,
   "metadata": {},
   "outputs": [
    {
     "data": {
      "text/plain": [
       "GradientBoostingRegressor(learning_rate=0.01, n_estimators=15000,\n",
       "                          random_state=0, subsample=0.25)"
      ]
     },
     "execution_count": 73,
     "metadata": {},
     "output_type": "execute_result"
    }
   ],
   "source": [
    "GBR = GradientBoostingRegressor(random_state=0, learning_rate = 1e-2, n_estimators=15000, subsample = 0.25)\n",
    "GBR.fit(X_train, y_train)\n"
   ]
  },
  {
   "cell_type": "code",
   "execution_count": 74,
   "metadata": {},
   "outputs": [
    {
     "name": "stdout",
     "output_type": "stream",
     "text": [
      "                 0\n",
      "count  8235.000000\n",
      "mean     61.742505\n",
      "std      66.324805\n",
      "min       0.032926\n",
      "25%      11.337098\n",
      "50%      44.542216\n",
      "75%      84.115119\n",
      "max     437.508790\n"
     ]
    },
    {
     "data": {
      "text/plain": [
       "[<matplotlib.lines.Line2D at 0x2028b7e4a60>,\n",
       " <matplotlib.lines.Line2D at 0x2028b7e4b80>]"
      ]
     },
     "execution_count": 74,
     "metadata": {},
     "output_type": "execute_result"
    },
    {
     "data": {
      "image/png": "[encoded data removed]",
      "text/plain": [
       "<Figure size 432x288 with 1 Axes>"
      ]
     },
     "metadata": {
      "needs_background": "light"
     },
     "output_type": "display_data"
    }
   ],
   "source": [
    "predicted = GBR.predict(X_test)\n",
    "expected = y_test\n",
    "print(pd.DataFrame(np.abs(expected - predicted)).describe())\n",
    "\n",
    "to_plot= pd.concat([pd.DataFrame(expected), pd.DataFrame(predicted)], axis=1)\n",
    "to_plot.columns = ['dist', 'pred']\n",
    "to_plot = to_plot.sort_values(by=['dist'], ignore_index=True)\n",
    "plt.plot(to_plot)"
   ]
  },
  {
   "cell_type": "markdown",
   "metadata": {},
   "source": [
    "## Support Vector Classifier"
   ]
  },
  {
   "cell_type": "markdown",
   "metadata": {},
   "source": [
    "### - Grid Search"
   ]
  },
  {
   "cell_type": "code",
   "execution_count": 16,
   "metadata": {},
   "outputs": [
    {
     "name": "stdout",
     "output_type": "stream",
     "text": [
      "Fitting 3 folds for each of 24 candidates, totalling 72 fits\n"
     ]
    },
    {
     "data": {
      "text/plain": [
       "GridSearchCV(cv=3, estimator=SVC(), n_jobs=-1,\n",
       "             param_grid={'decision_function_shape': ['ovo', 'ovr'],\n",
       "                         'kernel': ['linear', 'poly', 'rbf', 'sigmoid'],\n",
       "                         'tol': [0.01, 0.001, 0.0001]},\n",
       "             verbose=3)"
      ]
     },
     "execution_count": 16,
     "metadata": {},
     "output_type": "execute_result"
    }
   ],
   "source": [
    "SVC_class = SVC()\n",
    "\n",
    "parameters = {'kernel':['linear', 'poly', 'rbf', 'sigmoid'], 'tol':[1e-2,1e-3,1e-4], 'decision_function_shape':['ovo','ovr']}\n",
    "\n",
    "SVC_GS = GridSearchCV(SVC_class, parameters, n_jobs=-1, verbose=3, cv =3)\n",
    "\n",
    "SVC_GS.fit(X_train, y_train)"
   ]
  },
  {
   "cell_type": "code",
   "execution_count": 18,
   "metadata": {},
   "outputs": [
    {
     "name": "stdout",
     "output_type": "stream",
     "text": [
      "{'decision_function_shape': 'ovo', 'kernel': 'rbf', 'tol': 0.01}\n"
     ]
    }
   ],
   "source": [
    "print(SVC_GS.best_params_)"
   ]
  },
  {
   "cell_type": "markdown",
   "metadata": {},
   "source": [
    "### - Training"
   ]
  },
  {
   "cell_type": "code",
   "execution_count": 42,
   "metadata": {},
   "outputs": [
    {
     "data": {
      "text/plain": [
       "SVC(cache_size=4000, decision_function_shape='ovo', tol=0.01)"
      ]
     },
     "execution_count": 42,
     "metadata": {},
     "output_type": "execute_result"
    }
   ],
   "source": [
    "svc = SVC(kernel = 'rbf', tol= 1e-2, cache_size = 4000, decision_function_shape= 'ovo')\n",
    "svc.fit(X_train, y_train)"
   ]
  },
  {
   "cell_type": "code",
   "execution_count": 43,
   "metadata": {},
   "outputs": [
    {
     "name": "stdout",
     "output_type": "stream",
     "text": [
      "                 0\n",
      "count  8235.000000\n",
      "mean     57.765634\n",
      "std      97.870754\n",
      "min       0.000000\n",
      "25%       0.000000\n",
      "50%       0.000000\n",
      "75%     100.000000\n",
      "max     500.000000\n"
     ]
    },
    {
     "data": {
      "text/plain": [
       "[<matplotlib.lines.Line2D at 0x201ceb51f40>,\n",
       " <matplotlib.lines.Line2D at 0x201ceb5d040>]"
      ]
     },
     "execution_count": 43,
     "metadata": {},
     "output_type": "execute_result"
    },
    {
     "data": {
      "image/png": "[encoded data removed]",
      "text/plain": [
       "<Figure size 432x288 with 1 Axes>"
      ]
     },
     "metadata": {
      "needs_background": "light"
     },
     "output_type": "display_data"
    }
   ],
   "source": [
    "predicted = svc.predict(X_test)\n",
    "expected = y_test\n",
    "print(pd.DataFrame(np.abs(expected - predicted)).describe())\n",
    "\n",
    "to_plot= pd.concat([pd.DataFrame(expected), pd.DataFrame(predicted)], axis=1)\n",
    "to_plot.columns = ['dist', 'pred']\n",
    "to_plot = to_plot.sort_values(by=['dist'], ignore_index=True)\n",
    "plt.plot(to_plot)"
   ]
  },
  {
   "cell_type": "markdown",
   "metadata": {},
   "source": [
    "## Support Vector Regressor"
   ]
  },
  {
   "cell_type": "markdown",
   "metadata": {},
   "source": [
    "### - Grid search"
   ]
  },
  {
   "cell_type": "code",
   "execution_count": 11,
   "metadata": {},
   "outputs": [
    {
     "name": "stdout",
     "output_type": "stream",
     "text": [
      "Fitting 3 folds for each of 3 candidates, totalling 9 fits\n"
     ]
    },
    {
     "data": {
      "text/plain": [
       "GridSearchCV(cv=3, estimator=SVR(cache_size=3000), n_jobs=-1,\n",
       "             param_grid={'C': [25, 75, 100], 'epsilon': [1e-05],\n",
       "                         'kernel': ['rbf'], 'tol': [0.0001]},\n",
       "             verbose=4)"
      ]
     },
     "execution_count": 11,
     "metadata": {},
     "output_type": "execute_result"
    }
   ],
   "source": [
    "SVR_class = SVR(cache_size= 3000)\n",
    "\n",
    "parameters = {'kernel':['rbf'], 'epsilon':[1e-5], 'tol':[1e-4], 'C':[25, 75, 100]}\n",
    "#, 'C':[1, 10, 100]\n",
    "\n",
    "svr = GridSearchCV(SVR_class, parameters, n_jobs=-1, verbose=4, cv=3)\n",
    "\n",
    "svr.fit(X_train, y_train)"
   ]
  },
  {
   "cell_type": "code",
   "execution_count": 12,
   "metadata": {},
   "outputs": [
    {
     "name": "stdout",
     "output_type": "stream",
     "text": [
      "{'C': 25, 'epsilon': 1e-05, 'kernel': 'rbf', 'tol': 0.0001}\n"
     ]
    }
   ],
   "source": [
    "print(svr.best_params_)"
   ]
  },
  {
   "cell_type": "markdown",
   "metadata": {},
   "source": [
    "### - Training"
   ]
  },
  {
   "cell_type": "code",
   "execution_count": 13,
   "metadata": {},
   "outputs": [
    {
     "data": {
      "text/plain": [
       "SVR(C=25, cache_size=4000, degree=1, epsilon=1e-05, tol=0.0001)"
      ]
     },
     "execution_count": 13,
     "metadata": {},
     "output_type": "execute_result"
    }
   ],
   "source": [
    "SVR_model = SVR(kernel = 'rbf', epsilon=1e-5, degree = 1, cache_size= 4000, tol=1e-4 , C=25)\n",
    "SVR_model.fit(X_train, y_train)"
   ]
  },
  {
   "cell_type": "code",
   "execution_count": 57,
   "metadata": {},
   "outputs": [
    {
     "name": "stdout",
     "output_type": "stream",
     "text": [
      "                 0\n",
      "count  8232.000000\n",
      "mean     71.662265\n",
      "std      75.040606\n",
      "min       0.000053\n",
      "25%       9.241652\n",
      "50%      49.880183\n",
      "75%     100.645372\n",
      "max     446.024867\n"
     ]
    },
    {
     "data": {
      "text/plain": [
       "[<matplotlib.lines.Line2D at 0x17d034bafa0>,\n",
       " <matplotlib.lines.Line2D at 0x17d034dfee0>]"
      ]
     },
     "execution_count": 57,
     "metadata": {},
     "output_type": "execute_result"
    },
    {
     "data": {
      "image/png": "[encoded data removed]",
      "text/plain": [
       "<Figure size 432x288 with 1 Axes>"
      ]
     },
     "metadata": {
      "needs_background": "light"
     },
     "output_type": "display_data"
    }
   ],
   "source": [
    "predicted = SVR_model.predict(X_test)\n",
    "expected = y_test\n",
    "print(pd.DataFrame(np.abs(expected - predicted)).describe())\n",
    "\n",
    "to_plot= pd.concat([pd.DataFrame(expected), pd.DataFrame(predicted)], axis=1)\n",
    "to_plot.columns = ['dist', 'pred']\n",
    "to_plot = to_plot.sort_values(by=['dist'], ignore_index=True)\n",
    "plt.plot(to_plot)"
   ]
  },
  {
   "cell_type": "markdown",
   "metadata": {},
   "source": [
    "## Post-processing"
   ]
  },
  {
   "cell_type": "code",
   "execution_count": 75,
   "metadata": {},
   "outputs": [],
   "source": [
    "to_plot = to_plot.reset_index(drop=True)\n",
    "filter_size = 30\n",
    "to_plot.loc[:,'pred_filter']=np.nan\n",
    "for i in range(filter_size,  to_plot.shape[0]):\n",
    "        temp = to_plot.iloc[i-filter_size:i]\n",
    "        temp = temp.reset_index(drop=True)\n",
    "        if bool(all(elem == temp.dist[0] for elem in temp.dist)) :\n",
    "            var = 10* temp.loc[:,'pred'].var()\n",
    "            initial_value_guess = meters_to_db(temp.dist[filter_size-1]/100, ref, tx) \n",
    "            observation_covariance = np.diag([var]) ** 2\n",
    "            kf = KalmanFilter(\n",
    "            initial_state_mean = initial_value_guess,\n",
    "            initial_state_covariance = observation_covariance,\n",
    "            observation_covariance = observation_covariance\n",
    "            )\n",
    "\n",
    "            pred_state, state_cov = kf.smooth(np.flip(temp.loc[:,'pred']))\n",
    "\n",
    "            to_plot.loc[i-1,'pred_filter'] = pred_state[filter_size-1]\n",
    "    "
   ]
  },
  {
   "cell_type": "code",
   "execution_count": 76,
   "metadata": {},
   "outputs": [
    {
     "name": "stdout",
     "output_type": "stream",
     "text": [
      "                 0\n",
      "count  7886.000000\n",
      "mean     56.759213\n",
      "std      43.298689\n",
      "min       0.006263\n",
      "25%      26.483335\n",
      "50%      47.761869\n",
      "75%      82.011761\n",
      "max     190.942532\n"
     ]
    },
    {
     "data": {
      "text/plain": [
       "[<matplotlib.lines.Line2D at 0x2028a414430>]"
      ]
     },
     "execution_count": 76,
     "metadata": {},
     "output_type": "execute_result"
    },
    {
     "data": {
      "image/png": "[encoded data removed]",
      "text/plain": [
       "<Figure size 432x288 with 1 Axes>"
      ]
     },
     "metadata": {
      "needs_background": "light"
     },
     "output_type": "display_data"
    }
   ],
   "source": [
    "to_plot\n",
    "to_plot = to_plot[~to_plot.pred_filter.isnull()]\n",
    "print(pd.DataFrame(np.abs(to_plot.dist - to_plot.pred_filter)).describe())\n",
    "\n",
    "plt.plot(to_plot.dist)\n",
    "plt.plot(to_plot.pred_filter)"
   ]
  },
  {
   "cell_type": "markdown",
   "metadata": {},
   "source": [
    "## Exporting the model"
   ]
  },
  {
   "cell_type": "code",
   "execution_count": 80,
   "metadata": {},
   "outputs": [
    {
     "data": {
      "text/plain": [
       "['gbr_compressed.gz']"
      ]
     },
     "execution_count": 80,
     "metadata": {},
     "output_type": "execute_result"
    }
   ],
   "source": [
    "filename = 'gbr_reg_kalman.sav'\n",
    "pickle.dump(GBR, open(filename, 'wb'))\n",
    "\n",
    "import joblib\n",
    "joblib.dump(GBR, \"gbr_compressed.gz\", compress=8)\n"
   ]
  },
  {
   "cell_type": "markdown",
   "metadata": {},
   "source": [
    "## Testing"
   ]
  },
  {
   "cell_type": "code",
   "execution_count": 65,
   "metadata": {},
   "outputs": [
    {
     "data": {
      "text/html": [
       "<div>\n",
       "<style scoped>\n",
       "    .dataframe tbody tr th:only-of-type {\n",
       "        vertical-align: middle;\n",
       "    }\n",
       "\n",
       "    .dataframe tbody tr th {\n",
       "        vertical-align: top;\n",
       "    }\n",
       "\n",
       "    .dataframe thead th {\n",
       "        text-align: right;\n",
       "    }\n",
       "</style>\n",
       "<table border=\"1\" class=\"dataframe\">\n",
       "  <thead>\n",
       "    <tr style=\"text-align: right;\">\n",
       "      <th></th>\n",
       "      <th>address</th>\n",
       "      <th>rssi</th>\n",
       "      <th>dist</th>\n",
       "      <th>battery</th>\n",
       "      <th>txPower</th>\n",
       "      <th>interval</th>\n",
       "      <th>roll</th>\n",
       "    </tr>\n",
       "  </thead>\n",
       "  <tbody>\n",
       "    <tr>\n",
       "      <th>0</th>\n",
       "      <td>e3:6f:28:36:5a:db</td>\n",
       "      <td>-52</td>\n",
       "      <td>50</td>\n",
       "      <td>43</td>\n",
       "      <td>6</td>\n",
       "      <td>500</td>\n",
       "      <td>-51.180006</td>\n",
       "    </tr>\n",
       "    <tr>\n",
       "      <th>1</th>\n",
       "      <td>f9:b3:b2:3d:53:a5</td>\n",
       "      <td>-41</td>\n",
       "      <td>50</td>\n",
       "      <td>72</td>\n",
       "      <td>6</td>\n",
       "      <td>500</td>\n",
       "      <td>-52.458145</td>\n",
       "    </tr>\n",
       "    <tr>\n",
       "      <th>2</th>\n",
       "      <td>f9:b3:b2:3d:53:a5</td>\n",
       "      <td>-44</td>\n",
       "      <td>50</td>\n",
       "      <td>72</td>\n",
       "      <td>6</td>\n",
       "      <td>500</td>\n",
       "      <td>-48.884112</td>\n",
       "    </tr>\n",
       "    <tr>\n",
       "      <th>3</th>\n",
       "      <td>f7:9c:08:9a:42:ed</td>\n",
       "      <td>-63</td>\n",
       "      <td>50</td>\n",
       "      <td>50</td>\n",
       "      <td>6</td>\n",
       "      <td>500</td>\n",
       "      <td>-51.573351</td>\n",
       "    </tr>\n",
       "    <tr>\n",
       "      <th>4</th>\n",
       "      <td>f9:b3:b2:3d:53:a5</td>\n",
       "      <td>-42</td>\n",
       "      <td>50</td>\n",
       "      <td>72</td>\n",
       "      <td>6</td>\n",
       "      <td>500</td>\n",
       "      <td>-50.245087</td>\n",
       "    </tr>\n",
       "    <tr>\n",
       "      <th>...</th>\n",
       "      <td>...</td>\n",
       "      <td>...</td>\n",
       "      <td>...</td>\n",
       "      <td>...</td>\n",
       "      <td>...</td>\n",
       "      <td>...</td>\n",
       "      <td>...</td>\n",
       "    </tr>\n",
       "    <tr>\n",
       "      <th>8995</th>\n",
       "      <td>f9:b3:b2:3d:53:a5</td>\n",
       "      <td>-78</td>\n",
       "      <td>1100</td>\n",
       "      <td>72</td>\n",
       "      <td>6</td>\n",
       "      <td>500</td>\n",
       "      <td>-71.065605</td>\n",
       "    </tr>\n",
       "    <tr>\n",
       "      <th>8996</th>\n",
       "      <td>f1:96:cd:ee:25:bd</td>\n",
       "      <td>-66</td>\n",
       "      <td>1100</td>\n",
       "      <td>47</td>\n",
       "      <td>6</td>\n",
       "      <td>500</td>\n",
       "      <td>-72.656655</td>\n",
       "    </tr>\n",
       "    <tr>\n",
       "      <th>8997</th>\n",
       "      <td>d1:0b:14:b3:18:6a</td>\n",
       "      <td>-66</td>\n",
       "      <td>1100</td>\n",
       "      <td>43</td>\n",
       "      <td>6</td>\n",
       "      <td>500</td>\n",
       "      <td>-72.329054</td>\n",
       "    </tr>\n",
       "    <tr>\n",
       "      <th>8998</th>\n",
       "      <td>fc:02:a0:fa:33:19</td>\n",
       "      <td>-68</td>\n",
       "      <td>1100</td>\n",
       "      <td>44</td>\n",
       "      <td>6</td>\n",
       "      <td>500</td>\n",
       "      <td>-71.950068</td>\n",
       "    </tr>\n",
       "    <tr>\n",
       "      <th>8999</th>\n",
       "      <td>d5:b1:89:8b:b8:c5</td>\n",
       "      <td>-75</td>\n",
       "      <td>1100</td>\n",
       "      <td>67</td>\n",
       "      <td>6</td>\n",
       "      <td>500</td>\n",
       "      <td>-71.834810</td>\n",
       "    </tr>\n",
       "  </tbody>\n",
       "</table>\n",
       "<p>9000 rows × 7 columns</p>\n",
       "</div>"
      ],
      "text/plain": [
       "                address  rssi  dist  battery  txPower  interval       roll\n",
       "0     e3:6f:28:36:5a:db   -52    50       43        6       500 -51.180006\n",
       "1     f9:b3:b2:3d:53:a5   -41    50       72        6       500 -52.458145\n",
       "2     f9:b3:b2:3d:53:a5   -44    50       72        6       500 -48.884112\n",
       "3     f7:9c:08:9a:42:ed   -63    50       50        6       500 -51.573351\n",
       "4     f9:b3:b2:3d:53:a5   -42    50       72        6       500 -50.245087\n",
       "...                 ...   ...   ...      ...      ...       ...        ...\n",
       "8995  f9:b3:b2:3d:53:a5   -78  1100       72        6       500 -71.065605\n",
       "8996  f1:96:cd:ee:25:bd   -66  1100       47        6       500 -72.656655\n",
       "8997  d1:0b:14:b3:18:6a   -66  1100       43        6       500 -72.329054\n",
       "8998  fc:02:a0:fa:33:19   -68  1100       44        6       500 -71.950068\n",
       "8999  d5:b1:89:8b:b8:c5   -75  1100       67        6       500 -71.834810\n",
       "\n",
       "[9000 rows x 7 columns]"
      ]
     },
     "execution_count": 65,
     "metadata": {},
     "output_type": "execute_result"
    }
   ],
   "source": [
    "test_set"
   ]
  },
  {
   "cell_type": "code",
   "execution_count": 66,
   "metadata": {},
   "outputs": [],
   "source": [
    "import random\n",
    "\n",
    "distances = [800, 50, 300, 600, 200, 1000, 500, 100, 700, 1100,400,900]\n",
    "min_nb=500\n",
    "temp=pd.DataFrame()\n",
    "for dist in distances:\n",
    "    temp = pd.concat([temp, test_set[test_set.loc[:,'dist'] == dist].reset_index(drop=True)])\n",
    "\n",
    "test_set_local = temp.reset_index(drop=True)"
   ]
  },
  {
   "cell_type": "code",
   "execution_count": 67,
   "metadata": {},
   "outputs": [],
   "source": [
    "to_plot = test_set_local.reset_index(drop=True)\n",
    "filter_size = 60\n",
    "for i in range(filter_size,  to_plot.shape[0]):\n",
    "        temp = to_plot.iloc[i-filter_size:i]\n",
    "        temp = temp.reset_index(drop=True)\n",
    "        var = 15* temp.loc[:,'rssi'].var()\n",
    "        initial_value_guess = meters_to_db(temp.dist[filter_size-1]/100, ref, tx) \n",
    "        observation_covariance = np.diag([var]) ** 2\n",
    "        kf = KalmanFilter(\n",
    "        initial_state_mean = initial_value_guess,\n",
    "        initial_state_covariance = observation_covariance,\n",
    "        observation_covariance = observation_covariance\n",
    "        )\n",
    "\n",
    "        pred_state, state_cov = kf.smooth(np.flip(temp.loc[:,'rssi']))\n",
    "\n",
    "        to_plot.loc[i-1,'roll'] = pred_state[filter_size-1]"
   ]
  },
  {
   "cell_type": "code",
   "execution_count": 68,
   "metadata": {},
   "outputs": [
    {
     "data": {
      "text/plain": [
       "[<matplotlib.lines.Line2D at 0x20238bb2e50>]"
      ]
     },
     "execution_count": 68,
     "metadata": {},
     "output_type": "execute_result"
    },
    {
     "data": {
      "image/png": "[encoded data removed]",
      "text/plain": [
       "<Figure size 432x288 with 1 Axes>"
      ]
     },
     "metadata": {
      "needs_background": "light"
     },
     "output_type": "display_data"
    }
   ],
   "source": [
    "plt.plot(to_plot.roll)"
   ]
  },
  {
   "cell_type": "code",
   "execution_count": 69,
   "metadata": {},
   "outputs": [],
   "source": [
    "test_aug, expected = feature_augmentation_func(to_plot)"
   ]
  },
  {
   "cell_type": "code",
   "execution_count": 70,
   "metadata": {},
   "outputs": [
    {
     "name": "stdout",
     "output_type": "stream",
     "text": [
      "                 0\n",
      "count  9000.000000\n",
      "mean     78.899260\n",
      "std      88.033710\n",
      "min       0.000000\n",
      "25%      24.941400\n",
      "50%      50.850904\n",
      "75%     103.832818\n",
      "max     884.830042\n"
     ]
    },
    {
     "data": {
      "text/plain": [
       "[<matplotlib.lines.Line2D at 0x201cf7760a0>,\n",
       " <matplotlib.lines.Line2D at 0x201cf7761c0>]"
      ]
     },
     "execution_count": 70,
     "metadata": {},
     "output_type": "execute_result"
    },
    {
     "data": {
      "image/png": "[encoded data removed]",
      "text/plain": [
       "<Figure size 432x288 with 1 Axes>"
      ]
     },
     "metadata": {
      "needs_background": "light"
     },
     "output_type": "display_data"
    }
   ],
   "source": [
    "predicted = rfr.predict(test_aug)\n",
    "print(pd.DataFrame(np.abs(expected - predicted)).describe())\n",
    "\n",
    "to_plot= pd.concat([pd.DataFrame(expected), pd.DataFrame(predicted)], axis=1)\n",
    "to_plot.columns = ['dist', 'pred']\n",
    "plt.plot(to_plot)"
   ]
  },
  {
   "cell_type": "code",
   "execution_count": 71,
   "metadata": {},
   "outputs": [
    {
     "data": {
      "text/html": [
       "<div>\n",
       "<style scoped>\n",
       "    .dataframe tbody tr th:only-of-type {\n",
       "        vertical-align: middle;\n",
       "    }\n",
       "\n",
       "    .dataframe tbody tr th {\n",
       "        vertical-align: top;\n",
       "    }\n",
       "\n",
       "    .dataframe thead th {\n",
       "        text-align: right;\n",
       "    }\n",
       "</style>\n",
       "<table border=\"1\" class=\"dataframe\">\n",
       "  <thead>\n",
       "    <tr style=\"text-align: right;\">\n",
       "      <th></th>\n",
       "      <th>dist</th>\n",
       "      <th>pred</th>\n",
       "      <th>pred_filter</th>\n",
       "    </tr>\n",
       "  </thead>\n",
       "  <tbody>\n",
       "    <tr>\n",
       "      <th>29</th>\n",
       "      <td>800</td>\n",
       "      <td>414.088117</td>\n",
       "      <td>513.206420</td>\n",
       "    </tr>\n",
       "    <tr>\n",
       "      <th>30</th>\n",
       "      <td>800</td>\n",
       "      <td>596.313605</td>\n",
       "      <td>515.059262</td>\n",
       "    </tr>\n",
       "    <tr>\n",
       "      <th>31</th>\n",
       "      <td>800</td>\n",
       "      <td>502.487083</td>\n",
       "      <td>511.511946</td>\n",
       "    </tr>\n",
       "    <tr>\n",
       "      <th>32</th>\n",
       "      <td>800</td>\n",
       "      <td>465.946798</td>\n",
       "      <td>506.142590</td>\n",
       "    </tr>\n",
       "    <tr>\n",
       "      <th>33</th>\n",
       "      <td>800</td>\n",
       "      <td>545.685563</td>\n",
       "      <td>510.038506</td>\n",
       "    </tr>\n",
       "    <tr>\n",
       "      <th>...</th>\n",
       "      <td>...</td>\n",
       "      <td>...</td>\n",
       "      <td>...</td>\n",
       "    </tr>\n",
       "    <tr>\n",
       "      <th>8994</th>\n",
       "      <td>900</td>\n",
       "      <td>794.610739</td>\n",
       "      <td>837.956420</td>\n",
       "    </tr>\n",
       "    <tr>\n",
       "      <th>8995</th>\n",
       "      <td>900</td>\n",
       "      <td>800.064694</td>\n",
       "      <td>834.878358</td>\n",
       "    </tr>\n",
       "    <tr>\n",
       "      <th>8996</th>\n",
       "      <td>900</td>\n",
       "      <td>735.931335</td>\n",
       "      <td>828.631190</td>\n",
       "    </tr>\n",
       "    <tr>\n",
       "      <th>8997</th>\n",
       "      <td>900</td>\n",
       "      <td>779.155305</td>\n",
       "      <td>827.204376</td>\n",
       "    </tr>\n",
       "    <tr>\n",
       "      <th>8998</th>\n",
       "      <td>900</td>\n",
       "      <td>824.745951</td>\n",
       "      <td>828.303585</td>\n",
       "    </tr>\n",
       "  </tbody>\n",
       "</table>\n",
       "<p>8970 rows × 3 columns</p>\n",
       "</div>"
      ],
      "text/plain": [
       "      dist        pred  pred_filter\n",
       "29     800  414.088117   513.206420\n",
       "30     800  596.313605   515.059262\n",
       "31     800  502.487083   511.511946\n",
       "32     800  465.946798   506.142590\n",
       "33     800  545.685563   510.038506\n",
       "...    ...         ...          ...\n",
       "8994   900  794.610739   837.956420\n",
       "8995   900  800.064694   834.878358\n",
       "8996   900  735.931335   828.631190\n",
       "8997   900  779.155305   827.204376\n",
       "8998   900  824.745951   828.303585\n",
       "\n",
       "[8970 rows x 3 columns]"
      ]
     },
     "execution_count": 71,
     "metadata": {},
     "output_type": "execute_result"
    }
   ],
   "source": [
    "filter_size = 30\n",
    "\n",
    "to_plot = to_plot.reset_index(drop=True)\n",
    "\n",
    "for i in range(filter_size,  to_plot.shape[0]):\n",
    "    temp = to_plot.iloc[i-filter_size:i]\n",
    "    var = 10 * temp.loc[:,'pred'].var()\n",
    "    initial_value_guess = temp.pred[i-1]\n",
    "    observation_covariance = np.diag([var]) ** 2\n",
    "    kf = KalmanFilter(\n",
    "    initial_state_mean = initial_value_guess,\n",
    "    initial_state_covariance = observation_covariance,\n",
    "    observation_covariance = observation_covariance\n",
    "    )\n",
    "\n",
    "    pred_state, state_cov = kf.smooth(np.flip(temp.loc[:,'pred']))\n",
    "\n",
    "    to_plot.loc[i-1,'pred_filter'] = pred_state[filter_size-1]\n",
    "to_plot.dropna()"
   ]
  },
  {
   "cell_type": "code",
   "execution_count": 72,
   "metadata": {},
   "outputs": [
    {
     "name": "stdout",
     "output_type": "stream",
     "text": [
      "                 0\n",
      "count  8970.000000\n",
      "mean     83.103411\n",
      "std     100.155658\n",
      "min       0.000000\n",
      "25%      24.402459\n",
      "50%      51.857715\n",
      "75%     106.649462\n",
      "max     829.540474\n"
     ]
    },
    {
     "data": {
      "text/plain": [
       "[<matplotlib.lines.Line2D at 0x20289136d00>]"
      ]
     },
     "execution_count": 72,
     "metadata": {},
     "output_type": "execute_result"
    },
    {
     "data": {
      "image/png": "[encoded data removed]",
      "text/plain": [
       "<Figure size 432x288 with 1 Axes>"
      ]
     },
     "metadata": {
      "needs_background": "light"
     },
     "output_type": "display_data"
    }
   ],
   "source": [
    "to_plot\n",
    "to_plot = to_plot[~to_plot.pred_filter.isnull()]\n",
    "print(pd.DataFrame(np.abs(to_plot.dist - to_plot.pred_filter)).describe())\n",
    "\n",
    "plt.plot(to_plot.dist)\n",
    "plt.plot(to_plot.pred_filter)"
   ]
  },
  {
   "cell_type": "code",
   "execution_count": null,
   "metadata": {},
   "outputs": [],
   "source": []
  },
  {
   "cell_type": "code",
   "execution_count": null,
   "metadata": {},
   "outputs": [],
   "source": []
  }
 ],
 "metadata": {
  "kernelspec": {
   "display_name": "Python 3",
   "language": "python",
   "name": "python3"
  },
  "language_info": {
   "codemirror_mode": {
    "name": "ipython",
    "version": 3
   },
   "file_extension": ".py",
   "mimetype": "text/x-python",
   "name": "python",
   "nbconvert_exporter": "python",
   "pygments_lexer": "ipython3",
   "version": "3.8.10"
  }
 },
 "nbformat": 4,
 "nbformat_minor": 4
}
